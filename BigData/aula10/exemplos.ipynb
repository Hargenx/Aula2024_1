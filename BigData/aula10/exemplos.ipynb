{
 "cells": [
  {
   "cell_type": "markdown",
   "metadata": {},
   "source": [
    "Operações muito parecidas com as de projeção, seleção, deleção e junção.\n",
    "\n",
    "Métodos:\n",
    "- loc - projeta as colunas do DataFrame pelos rótulos.\n",
    "- iloc - a projeção depende dos indexes numéricos das linhas e colunas de um DataFrame.\n",
    "- query -  Intuitivo. Valor ou dimensão tem de ser declarado com o acento crase (`) ).\n",
    "- Concat: realiza a junção entre as séries pelos seus indexes.\n",
    "- Merge: declara-se as chaves estrangeiras que serão a base da junção e declara-se os sufixos em caso de repetição de nome de coluna.\n",
    "- Join: O join é feito a partir de um dos DataFrames, assim como o merge, mas ele depende do index, e a junção é feita no index padrão."
   ]
  },
  {
   "cell_type": "code",
   "execution_count": 2,
   "metadata": {},
   "outputs": [],
   "source": [
    "import pandas as pd"
   ]
  },
  {
   "cell_type": "markdown",
   "metadata": {},
   "source": [
    "### Criando dois DataFrames de exemplo"
   ]
  },
  {
   "cell_type": "code",
   "execution_count": 3,
   "metadata": {},
   "outputs": [],
   "source": [
    "data1 = {\n",
    "    \"Nome\": [\"Vanessa\", \"Raphael\", \"Vinicius\", \"Ana\"],\n",
    "    \"Idade\": [37, 39, 47, 28],\n",
    "    \"Cidade\": [\"São Paulo\", \"Rio de Janeiro\", \"Belo Horizonte\", \"Salvador\"],\n",
    "}\n",
    "df1 = pd.DataFrame(data1)\n",
    "\n",
    "data2 = {\n",
    "    \"Nome\": [\"Vanessa\", \"Raphael\", \"Vinicius\", \"Ana\"],\n",
    "    \"Salário\": [5000, 8000, 4500, 5500],\n",
    "}\n",
    "df2 = pd.DataFrame(data2)"
   ]
  },
  {
   "cell_type": "markdown",
   "metadata": {},
   "source": [
    "### Projeção usando loc: selecionando colunas pelo rótulo"
   ]
  },
  {
   "cell_type": "code",
   "execution_count": 4,
   "metadata": {},
   "outputs": [
    {
     "name": "stdout",
     "output_type": "stream",
     "text": [
      "Projeção usando loc:\n",
      "       Nome  Idade\n",
      "0   Vanessa     37\n",
      "1   Raphael     39\n",
      "2  Vinicius     47\n",
      "3       Ana     28\n"
     ]
    }
   ],
   "source": [
    "projeção_loc = df1.loc[:, [\"Nome\", \"Idade\"]]\n",
    "print(\"Projeção usando loc:\")\n",
    "print(projeção_loc)"
   ]
  },
  {
   "cell_type": "markdown",
   "metadata": {},
   "source": [
    "### Projeção usando iloc: selecionando colunas pelos índices numéricos"
   ]
  },
  {
   "cell_type": "code",
   "execution_count": 5,
   "metadata": {},
   "outputs": [
    {
     "name": "stdout",
     "output_type": "stream",
     "text": [
      "\n",
      "Projeção usando iloc:\n",
      "       Nome  Idade\n",
      "0   Vanessa     37\n",
      "1   Raphael     39\n",
      "2  Vinicius     47\n",
      "3       Ana     28\n"
     ]
    }
   ],
   "source": [
    "projeção_iloc = df1.iloc[:, [0, 1]]\n",
    "print(\"\\nProjeção usando iloc:\")\n",
    "print(projeção_iloc)"
   ]
  },
  {
   "cell_type": "markdown",
   "metadata": {},
   "source": [
    "### Seleção usando query: selecionando registros onde a idade é maior que 30"
   ]
  },
  {
   "cell_type": "code",
   "execution_count": 6,
   "metadata": {},
   "outputs": [
    {
     "name": "stdout",
     "output_type": "stream",
     "text": [
      "\n",
      "Seleção usando query:\n",
      "       Nome  Idade          Cidade\n",
      "0   Vanessa     37       São Paulo\n",
      "1   Raphael     39  Rio de Janeiro\n",
      "2  Vinicius     47  Belo Horizonte\n"
     ]
    }
   ],
   "source": [
    "seleção_query = df1.query(\"Idade > 30\")\n",
    "print(\"\\nSeleção usando query:\")\n",
    "print(seleção_query)"
   ]
  },
  {
   "cell_type": "markdown",
   "metadata": {},
   "source": [
    "### Junção usando merge: juntando os DataFrames pela coluna 'Nome'"
   ]
  },
  {
   "cell_type": "code",
   "execution_count": 7,
   "metadata": {},
   "outputs": [
    {
     "name": "stdout",
     "output_type": "stream",
     "text": [
      "\n",
      "Junção usando merge:\n",
      "       Nome  Idade          Cidade  Salário\n",
      "0   Vanessa     37       São Paulo     5000\n",
      "1   Raphael     39  Rio de Janeiro     8000\n",
      "2  Vinicius     47  Belo Horizonte     4500\n",
      "3       Ana     28        Salvador     5500\n"
     ]
    }
   ],
   "source": [
    "junção_merge = pd.merge(df1, df2, on=\"Nome\", how=\"inner\")\n",
    "print(\"\\nJunção usando merge:\")\n",
    "print(junção_merge)"
   ]
  },
  {
   "cell_type": "markdown",
   "metadata": {},
   "source": [
    "\n",
    "### Concatenando os DataFrames por índices"
   ]
  },
  {
   "cell_type": "code",
   "execution_count": 8,
   "metadata": {},
   "outputs": [
    {
     "name": "stdout",
     "output_type": "stream",
     "text": [
      "Concatenação:\n",
      "       Nome  Idade          Cidade      Nome  Salário\n",
      "0   Vanessa     37       São Paulo   Vanessa     5000\n",
      "1   Raphael     39  Rio de Janeiro   Raphael     8000\n",
      "2  Vinicius     47  Belo Horizonte  Vinicius     4500\n",
      "3       Ana     28        Salvador       Ana     5500\n"
     ]
    }
   ],
   "source": [
    "\n",
    "concatenado = pd.concat([df1, df2], axis=1)\n",
    "print(\"Concatenação:\")\n",
    "print(concatenado)"
   ]
  },
  {
   "cell_type": "markdown",
   "metadata": {},
   "source": [
    "### Merge usando a chave 'Nome' como base e sufixos '_df1' e '_df2' em caso de repetição de nome de coluna"
   ]
  },
  {
   "cell_type": "code",
   "execution_count": 9,
   "metadata": {},
   "outputs": [
    {
     "name": "stdout",
     "output_type": "stream",
     "text": [
      "\n",
      "Merge:\n",
      "       Nome  Idade          Cidade  Salário\n",
      "0   Vanessa     37       São Paulo     5000\n",
      "1   Raphael     39  Rio de Janeiro     8000\n",
      "2  Vinicius     47  Belo Horizonte     4500\n",
      "3       Ana     28        Salvador     5500\n"
     ]
    }
   ],
   "source": [
    "\n",
    "merge = pd.merge(df1, df2, on=\"Nome\", suffixes=(\"_df1\", \"_df2\"), how=\"inner\")\n",
    "print(\"\\nMerge:\")\n",
    "print(merge)"
   ]
  },
  {
   "cell_type": "markdown",
   "metadata": {},
   "source": [
    "### Join usando os índices como base"
   ]
  },
  {
   "cell_type": "code",
   "execution_count": 10,
   "metadata": {},
   "outputs": [
    {
     "name": "stdout",
     "output_type": "stream",
     "text": [
      "\n",
      "Join:\n",
      "          Idade          Cidade  Salário\n",
      "Nome                                    \n",
      "Vanessa      37       São Paulo     5000\n",
      "Raphael      39  Rio de Janeiro     8000\n",
      "Vinicius     47  Belo Horizonte     4500\n",
      "Ana          28        Salvador     5500\n"
     ]
    }
   ],
   "source": [
    "\n",
    "df1.set_index(\"Nome\", inplace=True)\n",
    "df2.set_index(\"Nome\", inplace=True)\n",
    "juncao_join = df1.join(df2, lsuffix=\"_df1\", rsuffix=\"_df2\")\n",
    "print(\"\\nJoin:\")\n",
    "print(juncao_join)"
   ]
  },
  {
   "cell_type": "markdown",
   "metadata": {},
   "source": [
    "### Visualização simples: Histograma da idade"
   ]
  },
  {
   "cell_type": "code",
   "execution_count": 14,
   "metadata": {},
   "outputs": [
    {
     "data": {
      "text/plain": [
       "Text(0.5, 1.0, 'Histograma da Idade')"
      ]
     },
     "execution_count": 14,
     "metadata": {},
     "output_type": "execute_result"
    },
    {
     "data": {
      "image/png": "[encoded data removed]",
      "text/plain": [
       "<Figure size 800x600 with 1 Axes>"
      ]
     },
     "metadata": {},
     "output_type": "display_data"
    }
   ],
   "source": [
    "histograma_idade = df1[\"Idade\"].plot(\n",
    "    kind=\"hist\", bins=5, color=\"skyblue\", figsize=(8, 6), title=\"Histograma da Idade\"\n",
    ")\n",
    "histograma_idade.set_xlabel(\"Idade\")\n",
    "histograma_idade.set_ylabel(\"Frequência\")\n",
    "histograma_idade.set_xticks(range(30, 50, 5))  # Ajustando os ticks do eixo x\n",
    "histograma_idade.set_yticks(range(0, 3))  # Ajustando os ticks do eixo y\n",
    "histograma_idade.grid(axis=\"y\")  # Adicionando linhas de grade no eixo y\n",
    "histograma_idade.legend([\"Idade\"])  # Adicionando legenda\n",
    "histograma_idade.set_title(\"Histograma da Idade\")  # Adicionando título"
   ]
  },
  {
   "cell_type": "markdown",
   "metadata": {},
   "source": [
    "### Visualização simples: Gráfico de barras do salário por nome"
   ]
  },
  {
   "cell_type": "code",
   "execution_count": 17,
   "metadata": {},
   "outputs": [
    {
     "data": {
      "image/png": "[encoded data removed]",
      "text/plain": [
       "<Figure size 800x600 with 1 Axes>"
      ]
     },
     "metadata": {},
     "output_type": "display_data"
    },
    {
     "name": "stderr",
     "output_type": "stream",
     "text": [
      "C:\\Users\\Lenovo\\AppData\\Local\\Temp\\ipykernel_10232\\3310468810.py:29: FutureWarning: \n",
      "\n",
      "Passing `palette` without assigning `hue` is deprecated and will be removed in v0.14.0. Assign the `x` variable to `hue` and set `legend=False` for the same effect.\n",
      "\n",
      "  sns.barplot(x=\"Nome\", y=\"Salário\", data=df2, palette=\"muted\")\n"
     ]
    },
    {
     "data": {
      "image/png": "[encoded data removed]",
      "text/plain": [
       "<Figure size 800x600 with 1 Axes>"
      ]
     },
     "metadata": {},
     "output_type": "display_data"
    }
   ],
   "source": [
    "import pandas as pd\n",
    "import matplotlib.pyplot as plt\n",
    "import seaborn as sns\n",
    "\n",
    "# Criando dois DataFrames de exemplo\n",
    "data1 = {\n",
    "    \"Nome\": [\"João\", \"Maria\", \"Pedro\", \"Ana\"],\n",
    "    \"Idade\": [25, 30, 35, 28],\n",
    "    \"Cidade\": [\"São Paulo\", \"Rio de Janeiro\", \"Belo Horizonte\", \"Salvador\"],\n",
    "}\n",
    "df1 = pd.DataFrame(data1)\n",
    "\n",
    "data2 = {\n",
    "    \"Nome\": [\"João\", \"Maria\", \"Carlos\", \"Ana\"],\n",
    "    \"Salário\": [5000, 6000, 4500, 5500],\n",
    "}\n",
    "df2 = pd.DataFrame(data2)\n",
    "\n",
    "# Visualização simples: Histograma da idade\n",
    "plt.figure(figsize=(8, 6))\n",
    "sns.histplot(df1[\"Idade\"], bins=5, kde=True, color=\"skyblue\")\n",
    "plt.title(\"Histograma da Idade\")\n",
    "plt.xlabel(\"Idade\")\n",
    "plt.ylabel(\"Frequência\")\n",
    "plt.show()\n",
    "\n",
    "# Visualização simples: Gráfico de barras do salário por nome\n",
    "plt.figure(figsize=(8, 6))\n",
    "sns.barplot(x=\"Nome\", y=\"Salário\", data=df2, palette=\"muted\")\n",
    "plt.title(\"Salário por Nome\")\n",
    "plt.xlabel(\"Nome\")\n",
    "plt.ylabel(\"Salário\")\n",
    "plt.xticks(rotation=45)\n",
    "plt.show()"
   ]
  }
 ],
 "metadata": {
  "kernelspec": {
   "display_name": "Python 3",
   "language": "python",
   "name": "python3"
  },
  "language_info": {
   "codemirror_mode": {
    "name": "ipython",
    "version": 3
   },
   "file_extension": ".py",
   "mimetype": "text/x-python",
   "name": "python",
   "nbconvert_exporter": "python",
   "pygments_lexer": "ipython3",
   "version": "3.10.8"
  }
 },
 "nbformat": 4,
 "nbformat_minor": 2
}
